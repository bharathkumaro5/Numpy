{
  "nbformat": 4,
  "nbformat_minor": 0,
  "metadata": {
    "colab": {
      "provenance": [],
      "authorship_tag": "ABX9TyP0D0WCFm+EsZDMqgkKql5G",
      "include_colab_link": true
    },
    "kernelspec": {
      "name": "python3",
      "display_name": "Python 3"
    },
    "language_info": {
      "name": "python"
    }
  },
  "cells": [
    {
      "cell_type": "markdown",
      "metadata": {
        "id": "view-in-github",
        "colab_type": "text"
      },
      "source": [
        "<a href=\"https://colab.research.google.com/github/bharathkumaro5/Numpy/blob/main/bharathkumar.ipynb\" target=\"_parent\"><img src=\"https://colab.research.google.com/assets/colab-badge.svg\" alt=\"Open In Colab\"/></a>"
      ]
    },
    {
      "cell_type": "markdown",
      "source": [
        "1. Getting Familiar with NumPy"
      ],
      "metadata": {
        "id": "CAdnpHJ0yiM1"
      }
    },
    {
      "cell_type": "code",
      "execution_count": 2,
      "metadata": {
        "colab": {
          "base_uri": "https://localhost:8080/",
          "height": 0
        },
        "id": "vpDNZuk1x1x5",
        "outputId": "c0a1882b-e13e-4a13-e7a2-e04f0b2588a0"
      },
      "outputs": [
        {
          "output_type": "stream",
          "name": "stdout",
          "text": [
            "Array: [1 2 3 4 5]\n",
            "Array Squared: [ 1  4  9 16 25]\n",
            "Shape: (5,)\n",
            "Data Type: int64\n",
            "Size: 5\n",
            "Number of Dimensions: 1\n"
          ]
        }
      ],
      "source": [
        "import numpy as np\n",
        "array = np.array([1, 2, 3, 4, 5])\n",
        "print(\"Array:\", array)\n",
        "array_squared = array ** 2\n",
        "print(\"Array Squared:\", array_squared)\n",
        "print(\"Shape:\", array.shape)\n",
        "print(\"Data Type:\", array.dtype)\n",
        "print(\"Size:\", array.size)\n",
        "print(\"Number of Dimensions:\", array.ndim)"
      ]
    },
    {
      "cell_type": "markdown",
      "source": [],
      "metadata": {
        "id": "I-9S6iMuyTZN"
      }
    },
    {
      "cell_type": "markdown",
      "source": [
        "2. Data Manipulation(\n",
        "performing indexing,slicing,and reshaping)"
      ],
      "metadata": {
        "id": "iaUJlCpizOTo"
      }
    },
    {
      "cell_type": "code",
      "source": [
        "import numpy as np\n",
        "matrix = np.array([[1, 2, 3], [4, 5, 6], [7, 8, 9]])\n",
        "print(\"\\n2D Array (Matrix):\\n\", matrix)\n",
        "# Indexing\n",
        "element = matrix[1, 2]\n",
        "print(\"\\nElement at [1, 2]:\", element)\n",
        "# Slicing\n",
        "sub_matrix = matrix[:2, 1:]  # first 2 rows, last 2 columns\n",
        "print(\"\\nSliced Sub-Matrix:\\n\", sub_matrix)\n",
        "# Reshaping\n",
        "reshaped_matrix = matrix.reshape(1, 9)\n",
        "print(\"\\nReshaped Matrix:\\n\", reshaped_matrix)"
      ],
      "metadata": {
        "colab": {
          "base_uri": "https://localhost:8080/",
          "height": 0
        },
        "id": "-lYxTMM6y-oj",
        "outputId": "e5b059d9-e4dd-4fee-e1e4-d11a89029cd8"
      },
      "execution_count": 4,
      "outputs": [
        {
          "output_type": "stream",
          "name": "stdout",
          "text": [
            "\n",
            "2D Array (Matrix):\n",
            " [[1 2 3]\n",
            " [4 5 6]\n",
            " [7 8 9]]\n",
            "\n",
            "Element at [1, 2]: 6\n",
            "\n",
            "Sliced Sub-Matrix:\n",
            " [[2 3]\n",
            " [5 6]]\n",
            "\n",
            "Reshaped Matrix:\n",
            " [[1 2 3 4 5 6 7 8 9]]\n"
          ]
        }
      ]
    },
    {
      "cell_type": "markdown",
      "source": [
        "3. Data Aggregation(finding mean,median and standard deviation)"
      ],
      "metadata": {
        "id": "lEAPQdNM0eE1"
      }
    },
    {
      "cell_type": "code",
      "source": [
        "import numpy as np\n",
        "matrix = np.array([[1, 2, 3], [4, 5, 6], [7, 8, 9]])\n",
        "mean = np.mean(matrix)\n",
        "median = np.median(matrix)\n",
        "std_dev = np.std(matrix)\n",
        "total_sum = np.sum(matrix)\n",
        "print(\"\\nMean:\", mean)\n",
        "print(\"Median:\", median)\n",
        "print(\"Standard Deviation:\", std_dev)\n",
        "print(\"Total Sum:\", total_sum)\n",
        "row_sums = np.sum(matrix, axis=1)\n",
        "print(\"\\nSum of Each Row:\", row_sums)"
      ],
      "metadata": {
        "colab": {
          "base_uri": "https://localhost:8080/",
          "height": 0
        },
        "id": "YJ8Gu6dVz2-T",
        "outputId": "7cdb8d5b-f354-421d-edcb-89f8c7d616dd"
      },
      "execution_count": 6,
      "outputs": [
        {
          "output_type": "stream",
          "name": "stdout",
          "text": [
            "\n",
            "Mean: 5.0\n",
            "Median: 5.0\n",
            "Standard Deviation: 2.581988897471611\n",
            "Total Sum: 45\n",
            "\n",
            "Sum of Each Row: [ 6 15 24]\n"
          ]
        }
      ]
    },
    {
      "cell_type": "markdown",
      "source": [
        "4. Data Analysis(finding correlation matrix and percentiles)\n"
      ],
      "metadata": {
        "id": "HgvBbor70-Rh"
      }
    },
    {
      "cell_type": "code",
      "source": [
        "import numpy as np\n",
        "data = np.random.rand(10, 3)\n",
        "correlation_matrix = np.corrcoef(data, rowvar=False)\n",
        "print(\"\\nCorrelation Matrix:\\n\", correlation_matrix)\n",
        "outliers = np.where(matrix > 8)\n",
        "print(\"\\nOutliers (values greater than 8):\", matrix[outliers])\n",
        "# Percentiles\n",
        "percentiles = np.percentile(matrix, [25, 50, 75])\n",
        "print(\"\\n25th, 50th, and 75th Percentiles:\", percentiles)"
      ],
      "metadata": {
        "colab": {
          "base_uri": "https://localhost:8080/",
          "height": 0
        },
        "id": "_U4tplRA0gog",
        "outputId": "e84f3afb-c592-493e-8c33-cfb32414025b"
      },
      "execution_count": 7,
      "outputs": [
        {
          "output_type": "stream",
          "name": "stdout",
          "text": [
            "\n",
            "Correlation Matrix:\n",
            " [[1.         0.02744785 0.03696289]\n",
            " [0.02744785 1.         0.26096656]\n",
            " [0.03696289 0.26096656 1.        ]]\n",
            "\n",
            "Outliers (values greater than 8): [9]\n",
            "\n",
            "25th, 50th, and 75th Percentiles: [3. 5. 7.]\n"
          ]
        }
      ]
    },
    {
      "cell_type": "code",
      "source": [],
      "metadata": {
        "id": "OzDbxad31OW5"
      },
      "execution_count": null,
      "outputs": []
    },
    {
      "cell_type": "markdown",
      "source": [
        "**Application in Data Science:**\n",
        "NumPy's powerful numerical operations and array handling make it essential for data science.\n",
        "\n",
        "Performance: NumPy's operations are implemented in C, making them significantly faster than equivalent Python code.\n",
        "\n",
        "Vectorization: NumPy supports vectorized operations, which allow you to perform element-wise operations efficiently.\n",
        "Memory Efficiency: NumPy arrays are more memory-efficient compared to traditional Python lists, especially for large datasets.\n",
        "\n",
        "NumPy provides a powerful array object and a suite of mathematical functions that make it a cornerstone in data manipulation and analysis. Its efficiency and functionality are critical in fields that require numerical computations and data handling."
      ],
      "metadata": {
        "id": "T36IyZ4W4y_S"
      }
    }
  ]
}